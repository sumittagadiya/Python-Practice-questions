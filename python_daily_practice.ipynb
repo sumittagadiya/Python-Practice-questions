{
 "cells": [
  {
   "cell_type": "markdown",
   "metadata": {},
   "source": [
    "# Day 1\n",
    "\n",
    "* **Objective** : Today, we're discussing data types.\n",
    "\n",
    "\n",
    "#### Task\n",
    "\n",
    "1. Declare 3 variables: one of type int, one of type double, and one of type String.\n",
    "2. Read 3 lines of input from stdin (according to the sequence given in the Input Format section below) and initialize your  variables.\n",
    "3. Use the + operator to perform the following operations:\n",
    "   1. Print the sum of  plus your int variable on a new line.\n",
    "   2. Print the sum of  plus your double variable to a scale of one decimal place on a new line.\n",
    "   3. Concatenate  with the string you read as input and print the result on a new line.\n",
    "\n",
    "**Input Format**\n",
    "\n",
    "* The first line contains an integer that you must sum with i.\n",
    "* The second line contains a double that you must sum with d.\n",
    "* The third line contains a string that you must concatenate with s.\n",
    "\n",
    "**Output Format**\n",
    "\n",
    "Print the sum of both integers on the first line, the sum of both doubles (scaled to 1 decimal place) on the second line, and then the two concatenated strings on the third line.\n",
    "\n",
    "**Sample Input**\n",
    "\n",
    "12\n",
    "4.0\n",
    "is the best place to learn and practice coding!\n",
    "Sample Output\n",
    "\n",
    "**Sample Output**\n",
    "16\n",
    "8.0\n",
    "HackerRank is the best place to learn and practice coding!\n",
    "\n",
    "**Explanation**\n",
    "\n",
    "* When we sum the integers 4 and 12, we get the integer 16 .\n",
    "* When we sum the floating-point numbers 4.0 and 4.0 , we get 8.0 .\n",
    "* When we concatenate **HackerRank** with **is the best place to learn and practice coding!**, we get **HackerRank is the best place to learn and practice coding!**."
   ]
  },
  {
   "cell_type": "code",
   "execution_count": 8,
   "metadata": {},
   "outputs": [
    {
     "name": "stdout",
     "output_type": "stream",
     "text": [
      "12\n",
      "4.0\n",
      "is the best place to learn and practice coding!\n",
      "16\n",
      "8.0\n",
      "HackerRank is the best place to learn and practice coding!\n"
     ]
    }
   ],
   "source": [
    "i = 4\n",
    "d = 4.0\n",
    "s = 'HackerRank '\n",
    "# Declare second integer, double, and String variables.\n",
    "\n",
    "# Read and save an integer, double, and String to your variables.\n",
    "I = int(input())\n",
    "D = float(input())\n",
    "S = str(input())\n",
    "# Print the sum of both integer variables on a new line.\n",
    "print(i+I)\n",
    "# Print the sum of the double variables on a new line.\n",
    "print(d+D)\n",
    "# Concatenate and print the String variables on a new line\n",
    "print(s + S)\n",
    "# The 's' variable above should be printed first."
   ]
  },
  {
   "cell_type": "markdown",
   "metadata": {},
   "source": [
    "### Objective\n",
    "### Task\n",
    "* Given a string, S, of length N that is indexed from 0 to N-1, print its even-indexed and odd-indexed characters as 2 space-separated strings on a single line (see the Sample below for more detail).\n",
    "* Note: 0 is considered to be an even index.\n",
    "* Example\n",
    "* s = sumital \n",
    "* Print smtl uia\n",
    "\n",
    "### Input Format\n",
    "\n",
    "* The first line contains an integer, T (the number of test cases).\n",
    "* Each line i of the T subsequent lines contain a string, S .\n",
    "\n",
    "### Constraints\n",
    "* 1 <= T <= 10\n",
    "* 2 <= len(string) <= 10000"
   ]
  },
  {
   "cell_type": "code",
   "execution_count": 7,
   "metadata": {},
   "outputs": [
    {
     "name": "stdout",
     "output_type": "stream",
     "text": [
      "1\n",
      "sumit\n",
      "smt ui\n"
     ]
    }
   ],
   "source": [
    "T = int(input())\n",
    "if 1 <= T <= 10:\n",
    "    for j in range(T):\n",
    "        in_str = str(input())\n",
    "        if 2 <= len(in_str) <= 10000:\n",
    "            str1 = ''\n",
    "            str2 = ''\n",
    "            for i in range(len(in_str)):\n",
    "                if i % 2 == 0:\n",
    "                    str1+=in_str[i]\n",
    "                else:\n",
    "                    str2+=in_str[i]\n",
    "            print('{} {}'.format(str1,str2))"
   ]
  },
  {
   "cell_type": "markdown",
   "metadata": {},
   "source": [
    "## for a list of students. Print the average of the marks array for the student name provided, showing 2 places after the decimal."
   ]
  },
  {
   "cell_type": "markdown",
   "metadata": {},
   "source": [
    "**Example**\n",
    "* Marks Key:Value pair are\n",
    "* 'alpha' : [20,30,40]\n",
    "* 'beta' : [30,50,70]\n",
    "* query_name = 'beta'\n",
    "* The query_name is 'beta'. beta's average score is (30 + 50 + 70)/3 = 50.0.\n",
    "\n",
    "**Input Format**\n",
    "\n",
    "* The first line contains the integer n, the number of students' records. The next n lines contain the names and marks obtained by a student, each value separated by a space. The final line contains query_name, the name of a student to query.\n",
    "\n",
    "**Constrains**\n",
    "* 2 <= n <= 10\n",
    "* 0 <= marks[i] <= 100\n",
    "* length of marks array = 3\n",
    "\n",
    "**Output Format**\n",
    "\n",
    "* Print one line: The average of the marks obtained by the particular student correct to 2 decimal places.\n",
    "\n",
    "**Sample Input**\n",
    "* 3\n",
    "* Krishna 67 68 69\n",
    "* Arjun 70 98 63\n",
    "* Malika 52 56 60\n",
    "* Malika"
   ]
  },
  {
   "cell_type": "code",
   "execution_count": 1,
   "metadata": {},
   "outputs": [
    {
     "name": "stdout",
     "output_type": "stream",
     "text": [
      "2\n",
      "sumit 90 91 92\n",
      "mittal 90 90 90\n",
      "mittal\n",
      "90.00\n"
     ]
    }
   ],
   "source": [
    "if __name__ == '__main__':\n",
    "    n = int(input())\n",
    "    student_marks = {}\n",
    "    if 2 <= n <= 10 :\n",
    "        for _ in range(n):\n",
    "            name, *line = input().split()\n",
    "            scores = list(map(float, line))\n",
    "            if len(scores) == 3 and all(map(lambda x : 0 <= x <= 100,scores)) :\n",
    "                student_marks[name] = scores\n",
    "            else:\n",
    "                raise Exception('Length of score list must be 3 and each element of list should be between 0 to 100')\n",
    "    else:\n",
    "        print('Number of records must be between 2 to 10')\n",
    "                \n",
    "    query_name = input()\n",
    "    query_score = student_marks[query_name]\n",
    "    avg_score = sum(query_score)/len(query_score)\n",
    "    print(\"{0:.2f}\".format(avg_score))\n",
    "        "
   ]
  },
  {
   "cell_type": "code",
   "execution_count": null,
   "metadata": {},
   "outputs": [],
   "source": []
  },
  {
   "cell_type": "code",
   "execution_count": null,
   "metadata": {},
   "outputs": [],
   "source": []
  }
 ],
 "metadata": {
  "kernelspec": {
   "display_name": "Python 3",
   "language": "python",
   "name": "python3"
  },
  "language_info": {
   "codemirror_mode": {
    "name": "ipython",
    "version": 3
   },
   "file_extension": ".py",
   "mimetype": "text/x-python",
   "name": "python",
   "nbconvert_exporter": "python",
   "pygments_lexer": "ipython3",
   "version": "3.6.6"
  }
 },
 "nbformat": 4,
 "nbformat_minor": 2
}
