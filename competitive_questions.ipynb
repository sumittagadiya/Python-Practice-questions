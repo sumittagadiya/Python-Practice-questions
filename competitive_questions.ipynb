{
 "cells": [
  {
   "cell_type": "markdown",
   "metadata": {},
   "source": [
    "### This problem was asked by Grammarly.\n",
    "\n",
    "Soundex is an algorithm used to categorize phonetically, such that two names that sound alike but are spelled differently have the same representation.\n",
    "\n",
    "Soundex maps every name to a string consisting of one letter and three numbers, like M460.\n",
    "\n",
    "**One version of the algorithm is as follows:**\n",
    "\n",
    "Remove consecutive consonants with the same sound (for example, change ck -> c).\n",
    "Keep the first letter. The remaining steps only apply to the rest of the string.\n",
    "Remove all vowels, including y, w, and h.\n",
    "Replace all consonants with the following digits:\n",
    "\n",
    "<li>b, f, p, v → </li>\n",
    "<li>c, g, j, k, q, s, x, z → 2</li>\n",
    "<li>d, t → 3</li>\n",
    "<li>l → 4</li>\n",
    "<li>m, n → 5</li>\n",
    "<li>r → 6</li>\n",
    "If you don't have three numbers yet, append zeros until you do. Keep the first three numbers.\n",
    "Using this scheme, Jackson and Jaxen both map to J250.\n",
    "\n",
    "Implement Soundex."
   ]
  },
  {
   "cell_type": "markdown",
   "metadata": {},
   "source": [
    "#### First, we can store the vowels as a set and the consonant values as a dictionary. This way, checking whether an element is a vowel, or whether two consonants have similar sounds, are both O(1) operations."
   ]
  },
  {
   "cell_type": "code",
   "execution_count": 1,
   "metadata": {},
   "outputs": [],
   "source": [
    "VOWELS = {'a', 'e', 'h', 'i', 'o', 'u', 'w', 'y'}\n",
    "CONSONANTS = {\n",
    "    'b': 1, 'f': 1, 'p': 1, 'v': 1,\n",
    "    'c': 2, 'g': 2, 'j': 2, 'k': 2, 'q': 2, 's': 2, 'x': 2, 'z': 2,\n",
    "    'd': 3, 't': 3,\n",
    "    'l': 4,\n",
    "    'm': 5, 'n': 5,\n",
    "    'r': 6\n",
    "}"
   ]
  },
  {
   "cell_type": "code",
   "execution_count": 2,
   "metadata": {},
   "outputs": [],
   "source": [
    "word = 'Jackson'\n",
    "word = list(word.lower())\n",
    "collapsed_word = [word[0]]\n",
    "vowel_last = False"
   ]
  },
  {
   "cell_type": "code",
   "execution_count": 3,
   "metadata": {},
   "outputs": [
    {
     "data": {
      "text/plain": [
       "['j', 'a', 'c', 'k', 's', 'o', 'n']"
      ]
     },
     "execution_count": 3,
     "metadata": {},
     "output_type": "execute_result"
    }
   ],
   "source": [
    "word"
   ]
  },
  {
   "cell_type": "code",
   "execution_count": 4,
   "metadata": {},
   "outputs": [
    {
     "data": {
      "text/plain": [
       "['j']"
      ]
     },
     "execution_count": 4,
     "metadata": {},
     "output_type": "execute_result"
    }
   ],
   "source": [
    "collapsed_word"
   ]
  },
  {
   "cell_type": "code",
   "execution_count": 5,
   "metadata": {},
   "outputs": [
    {
     "name": "stdout",
     "output_type": "stream",
     "text": [
      "Char ===>  j\n",
      "collapsed_word ===>  ['j']\n",
      "Constants.get(char) ===>  2\n",
      "CONSTANT.get(collapsed_word[-1]) ===>  2\n",
      "vowel_last ===>  False\n",
      "====================================================================================================\n",
      "Char ===>  a\n",
      "collapsed_word ===>  ['j']\n",
      "Constants.get(char) ===>  None\n",
      "CONSTANT.get(collapsed_word[-1]) ===>  2\n",
      "vowel_last ===>  False\n",
      "====================================================================================================\n",
      "Char ===>  x\n",
      "collapsed_word ===>  ['j']\n",
      "Constants.get(char) ===>  2\n",
      "CONSTANT.get(collapsed_word[-1]) ===>  2\n",
      "vowel_last ===>  True\n",
      "====================================================================================================\n",
      "Inside if ============> ['j', 'x']\n",
      "Char ===>  e\n",
      "collapsed_word ===>  ['j', 'x']\n",
      "Constants.get(char) ===>  None\n",
      "CONSTANT.get(collapsed_word[-1]) ===>  2\n",
      "vowel_last ===>  False\n",
      "====================================================================================================\n",
      "Char ===>  n\n",
      "collapsed_word ===>  ['j', 'x']\n",
      "Constants.get(char) ===>  5\n",
      "CONSTANT.get(collapsed_word[-1]) ===>  2\n",
      "vowel_last ===>  True\n",
      "====================================================================================================\n",
      "Inside if ============> ['j', 'x', 'n']\n"
     ]
    }
   ],
   "source": [
    "word = 'Jaxen'\n",
    "word = list(word.lower())\n",
    "collapsed_word = [word[0]]\n",
    "vowel_last = False\n",
    "\n",
    "for char in word:\n",
    "    print('Char ===> ',char)\n",
    "    print('collapsed_word ===> ',collapsed_word)\n",
    "    print('Constants.get(char) ===> ',CONSONANTS.get(char))\n",
    "    print('CONSTANT.get(collapsed_word[-1]) ===> ',CONSONANTS.get(collapsed_word[-1]))\n",
    "    print('vowel_last ===> ',vowel_last)\n",
    "    print('='*100)\n",
    "    if (CONSONANTS.get(char) != CONSONANTS.get(collapsed_word[-1])) or vowel_last:\n",
    "        \n",
    "        \n",
    "        if char not in VOWELS:\n",
    "            vowel_last = False\n",
    "            collapsed_word += char\n",
    "            print('Inside if ============>',collapsed_word)\n",
    "\n",
    "        if char in VOWELS:\n",
    "            vowel_last = True\n",
    "\n",
    "result = [collapsed_word[0]]"
   ]
  },
  {
   "cell_type": "code",
   "execution_count": 6,
   "metadata": {},
   "outputs": [
    {
     "data": {
      "text/plain": [
       "['j', 'x', 'n']"
      ]
     },
     "execution_count": 6,
     "metadata": {},
     "output_type": "execute_result"
    }
   ],
   "source": [
    "collapsed_word"
   ]
  },
  {
   "cell_type": "code",
   "execution_count": 7,
   "metadata": {},
   "outputs": [
    {
     "name": "stdout",
     "output_type": "stream",
     "text": [
      "['j', '2']\n",
      "['j', '2', '5']\n",
      "j250\n"
     ]
    }
   ],
   "source": [
    "for char in collapsed_word[1:]:\n",
    "    result += str(CONSONANTS[char])\n",
    "    print(result)\n",
    "\n",
    "while len(result) < 4:\n",
    "    result += '0'\n",
    "\n",
    "print(''.join(result[:4]))"
   ]
  },
  {
   "cell_type": "code",
   "execution_count": 8,
   "metadata": {},
   "outputs": [],
   "source": [
    "# make function\n",
    "def convert(word):\n",
    "    word = list(word.lower())\n",
    "    collapsed_word = [word[0]]\n",
    "\n",
    "    vowel_last = False\n",
    "\n",
    "    for char in word:\n",
    "        if (CONSONANTS.get(char) != CONSONANTS.get(collapsed_word[-1])) or vowel_last:\n",
    "            if char not in VOWELS:\n",
    "                vowel_last = False\n",
    "                collapsed_word += char\n",
    "\n",
    "        if char in VOWELS:\n",
    "            vowel_last = True\n",
    "\n",
    "    result = [collapsed_word[0]]\n",
    "\n",
    "    for char in collapsed_word[1:]:\n",
    "        result += str(CONSONANTS[char])\n",
    "\n",
    "    while len(result) < 4:\n",
    "        result += '0'\n",
    "\n",
    "    return ''.join(result[:4]) "
   ]
  },
  {
   "cell_type": "code",
   "execution_count": 9,
   "metadata": {},
   "outputs": [
    {
     "data": {
      "text/plain": [
       "'j250'"
      ]
     },
     "execution_count": 9,
     "metadata": {},
     "output_type": "execute_result"
    }
   ],
   "source": [
    "convert('Jackson')"
   ]
  },
  {
   "cell_type": "code",
   "execution_count": 10,
   "metadata": {},
   "outputs": [
    {
     "data": {
      "text/plain": [
       "'j250'"
      ]
     },
     "execution_count": 10,
     "metadata": {},
     "output_type": "execute_result"
    }
   ],
   "source": [
    "convert('Jaxen')"
   ]
  },
  {
   "cell_type": "markdown",
   "metadata": {},
   "source": [
    "### This problem was asked by Airbnb.\n",
    "\n",
    "* You are given an array X of floating-point numbers x1, x2, ... xn. These can be rounded up or down to create a corresponding array Y of integers y1, y2, ... yn.\n",
    "\n",
    "* Write an algorithm that finds an appropriate Y array with the following properties:\n",
    "  * The rounded sums of both arrays should be equal.\n",
    "  * The absolute pairwise difference between elements is minimized. In other words, |x1- y1| + |x2- y2| + ... + |xn- yn| should be as small as possible.\n",
    "  * For example, suppose your input is [1.3, 2.3, 4.4]. In this case you cannot do better than [1, 2, 5], which has an absolute difference of |1.3 - 1| + |2.3 - 2| + |4.4 - 5| = 1."
   ]
  },
  {
   "cell_type": "markdown",
   "metadata": {},
   "source": [
    "**Solution**\n",
    "\n",
    "* We know that the solution must be an array whose elements consist of either the floor or ceiling of our input numbers.\n",
    "\n",
    "* Therefore, a brute force approach would involve iterating through each possible combination of low and high integers. For each candidate array, we check whether it has the same sum as our input array when rounded, and if so, whether it has a lower absolute difference than any candidate so far.\n",
    "\n",
    "* In the end, we return the best array found throughout our loop."
   ]
  },
  {
   "cell_type": "code",
   "execution_count": 1,
   "metadata": {},
   "outputs": [],
   "source": [
    "from itertools import product\n",
    "from math import floor, ceil"
   ]
  },
  {
   "cell_type": "code",
   "execution_count": 19,
   "metadata": {},
   "outputs": [],
   "source": [
    "def get_difference(x, y):\n",
    "    return sum(abs(i - j) for i, j in zip(x, y))"
   ]
  },
  {
   "cell_type": "code",
   "execution_count": 2,
   "metadata": {},
   "outputs": [],
   "source": [
    "array = [1.3, 2.3, 4.4]"
   ]
  },
  {
   "cell_type": "code",
   "execution_count": 3,
   "metadata": {},
   "outputs": [
    {
     "name": "stdout",
     "output_type": "stream",
     "text": [
      "[1, 2, 4]\n",
      "[2, 3, 5]\n"
     ]
    }
   ],
   "source": [
    "low = [floor(x) for x in array]\n",
    "high = [ceil(x) for x in array]\n",
    "print(low)\n",
    "print(high)"
   ]
  },
  {
   "cell_type": "code",
   "execution_count": 20,
   "metadata": {},
   "outputs": [
    {
     "name": "stdout",
     "output_type": "stream",
     "text": [
      "Matched product ==>  (1, 2, 5)\n",
      "Matched product ==>  (1, 3, 4)\n",
      "Matched product ==>  (2, 2, 4)\n"
     ]
    }
   ],
   "source": [
    "lowest_diff = float('inf')\n",
    "for new in product(*zip(low, high)):\n",
    "    #print(new)\n",
    "    if sum(new) == round(sum(array)):\n",
    "        print('Matched product ==> ',new)\n",
    "        diff = get_difference(new, array)\n",
    "        \n",
    "        if diff < lowest_diff :\n",
    "            lowest_diff = diff\n",
    "            best_array = new"
   ]
  },
  {
   "cell_type": "code",
   "execution_count": 21,
   "metadata": {},
   "outputs": [
    {
     "data": {
      "text/plain": [
       "1.1999999999999995"
      ]
     },
     "execution_count": 21,
     "metadata": {},
     "output_type": "execute_result"
    }
   ],
   "source": [
    "lowest_diff"
   ]
  },
  {
   "cell_type": "code",
   "execution_count": 22,
   "metadata": {},
   "outputs": [
    {
     "data": {
      "text/plain": [
       "(1, 2, 5)"
      ]
     },
     "execution_count": 22,
     "metadata": {},
     "output_type": "execute_result"
    }
   ],
   "source": [
    "best_array"
   ]
  },
  {
   "cell_type": "markdown",
   "metadata": {},
   "source": [
    "### Final function"
   ]
  },
  {
   "cell_type": "code",
   "execution_count": 24,
   "metadata": {},
   "outputs": [],
   "source": [
    "from itertools import product\n",
    "from math import floor, ceil\n",
    "\n",
    "# get absolute difference between 2 arrays\n",
    "def get_difference(x, y):\n",
    "    return sum(abs(i - j) for i, j in zip(x, y))\n",
    "\n",
    "def round_numbers(array):\n",
    "    # get low value after round off\n",
    "    low = [floor(x) for x in array]\n",
    "    # get high value after round off\n",
    "    high = [ceil(x) for x in array]\n",
    "\n",
    "    best_array = None\n",
    "    # initialize lowest difference as infinity\n",
    "    lowest_diff = float('inf')\n",
    "    # rounded sum of input array\n",
    "    array_sum = round(sum(array))\n",
    "\n",
    "    # Iterate through all possible combinations of low and high elements.\n",
    "    for new in product(*zip(low, high)):\n",
    "        if sum(new) == array_sum:\n",
    "            diff = get_difference(new, array)\n",
    "\n",
    "            if diff < lowest_diff:\n",
    "                best_array = new\n",
    "                lowest_diff = diff\n",
    "\n",
    "    return best_array,lowest_diff"
   ]
  },
  {
   "cell_type": "code",
   "execution_count": 25,
   "metadata": {},
   "outputs": [],
   "source": [
    "best_array, lowest_diff = round_numbers([1.3, 2.3, 4.4])"
   ]
  },
  {
   "cell_type": "code",
   "execution_count": 26,
   "metadata": {},
   "outputs": [
    {
     "name": "stdout",
     "output_type": "stream",
     "text": [
      "Best Array is ==> (1, 2, 5)\n",
      "Lowest Diff is ==> 1.1999999999999995\n"
     ]
    }
   ],
   "source": [
    "print('Best Array is ==>',best_array)\n",
    "print('Lowest Diff is ==>',lowest_diff)"
   ]
  },
  {
   "cell_type": "code",
   "execution_count": null,
   "metadata": {},
   "outputs": [],
   "source": []
  }
 ],
 "metadata": {
  "kernelspec": {
   "display_name": "Python 3",
   "language": "python",
   "name": "python3"
  },
  "language_info": {
   "codemirror_mode": {
    "name": "ipython",
    "version": 3
   },
   "file_extension": ".py",
   "mimetype": "text/x-python",
   "name": "python",
   "nbconvert_exporter": "python",
   "pygments_lexer": "ipython3",
   "version": "3.6.6"
  }
 },
 "nbformat": 4,
 "nbformat_minor": 2
}
